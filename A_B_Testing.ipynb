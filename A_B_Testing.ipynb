{
  "nbformat": 4,
  "nbformat_minor": 0,
  "metadata": {
    "colab": {
      "name": "A/B Testing.ipynb",
      "provenance": [],
      "collapsed_sections": [],
      "authorship_tag": "ABX9TyPV6p4D8/vqlplMDDm0y0Y7",
      "include_colab_link": true
    },
    "kernelspec": {
      "name": "python3",
      "display_name": "Python 3"
    }
  },
  "cells": [
    {
      "cell_type": "markdown",
      "metadata": {
        "id": "view-in-github",
        "colab_type": "text"
      },
      "source": [
        "<a href=\"https://colab.research.google.com/github/WanjohiWanjohi/A-Btesting_SmartAd/blob/master/A_B_Testing.ipynb\" target=\"_parent\"><img src=\"https://colab.research.google.com/assets/colab-badge.svg\" alt=\"Open In Colab\"/></a>"
      ]
    },
    {
      "cell_type": "markdown",
      "metadata": {
        "id": "cGeTLSR33p-7",
        "colab_type": "text"
      },
      "source": [
        "# Impact of interactive ads on brand awareness\n",
        "An exploration of the Brand Impact Optimiser (BIO) results on an experiment and control group\n"
      ]
    },
    {
      "cell_type": "markdown",
      "metadata": {
        "id": "WFvfXG0s4B4n",
        "colab_type": "text"
      },
      "source": [
        "## Imports :Relevant packages used for the analysis are included in the notebook\n",
        "\n",
        "\n"
      ]
    },
    {
      "cell_type": "code",
      "metadata": {
        "id": "RoO3in6B0VCa",
        "colab_type": "code",
        "colab": {}
      },
      "source": [
        "#https://drive.google.com/file/d/1FVPOkNiQioJJ1A-NTy3YnoWYJZheCjPg/view?usp=sharing\n",
        "\n",
        "import csv \n",
        "import pandas as pd\n",
        "import matplotlib.pyplot as plt\n",
        "import requests\n",
        "import io\n",
        "import matplotlib.pyplot as plt\n",
        "import seaborn as sns\n",
        "import numpy as np\n",
        "from scipy.stats import norm\n",
        "from sklearn.preprocessing import StandardScaler\n",
        "from scipy import stats\n",
        "import warnings\n",
        "import scipy.stats as scs\n",
        "warnings.filterwarnings('ignore')\n",
        "%matplotlib inline"
      ],
      "execution_count": 81,
      "outputs": []
    },
    {
      "cell_type": "code",
      "metadata": {
        "id": "taVe_ryK205c",
        "colab_type": "code",
        "colab": {}
      },
      "source": [
        "\n",
        "#function to load csv as dataframe\n",
        "\n",
        "def load_csv_as_df(url):\n",
        "    s = requests.get(url).content\n",
        "    path = 'https://drive.google.com/uc?export=download&id='+url.split('/')[-2]\n",
        "    df = pd.read_csv(path)\n",
        "    return df\n",
        "\n",
        "#function to crete one row for response with 1 as yes and 0 as no\n",
        "def create_value(row):\n",
        "    if row['yes'] == 0 and row['no'] == 0:\n",
        "        return 0\n",
        "    elif row['yes'] == 1 and row['no'] == 0:\n",
        "        return 1\n",
        "    elif row['yes'] == 0 and row['no'] == 1:\n",
        "      return 0\n",
        "\n"
      ],
      "execution_count": 50,
      "outputs": []
    },
    {
      "cell_type": "code",
      "metadata": {
        "id": "yxJXYwMz5jDn",
        "colab_type": "code",
        "colab": {}
      },
      "source": [
        "users = load_csv_as_df(url=\"https://drive.google.com/file/d/1FVPOkNiQioJJ1A-NTy3YnoWYJZheCjPg/view?usp=sharing\")\n",
        "users['response'] = users.apply(lambda row: create_value(row), axis=1)\n",
        "\n"
      ],
      "execution_count": 71,
      "outputs": []
    },
    {
      "cell_type": "markdown",
      "metadata": {
        "id": "TKmDvaF9NEXc",
        "colab_type": "text"
      },
      "source": [
        "The *response* column indicates whether a user is aware of SmartAd or not with a 1 or 0, respectively. \n"
      ]
    },
    {
      "cell_type": "markdown",
      "metadata": {
        "id": "Em82w55z9ZaP",
        "colab_type": "text"
      },
      "source": [
        "# Descriptive Statistics Summary\n"
      ]
    },
    {
      "cell_type": "code",
      "metadata": {
        "id": "j4bA0RHt-_NV",
        "colab_type": "code",
        "colab": {
          "base_uri": "https://localhost:8080/",
          "height": 143
        },
        "outputId": "fe364a6a-8464-47a5-c832-8070a38449ce"
      },
      "source": [
        "# looking at the distribution of the population\n",
        "# get user counts in the control and xperiment group\n",
        "n_a = user_counts.control\n",
        "n_b = user_counts.exposed\n",
        "ab_summary = users.pivot_table(values='response', index='experiment', aggfunc=np.sum)# add additional columns to the pivot table\n",
        "ab_summary['total'] = users.pivot_table(values='response', index='experiment', aggfunc=lambda x: len(x))\n",
        "ab_summary['rate'] = users.pivot_table(values='response', index='experiment')\n",
        "ab_summary"
      ],
      "execution_count": 69,
      "outputs": [
        {
          "output_type": "execute_result",
          "data": {
            "text/html": [
              "<div>\n",
              "<style scoped>\n",
              "    .dataframe tbody tr th:only-of-type {\n",
              "        vertical-align: middle;\n",
              "    }\n",
              "\n",
              "    .dataframe tbody tr th {\n",
              "        vertical-align: top;\n",
              "    }\n",
              "\n",
              "    .dataframe thead th {\n",
              "        text-align: right;\n",
              "    }\n",
              "</style>\n",
              "<table border=\"1\" class=\"dataframe\">\n",
              "  <thead>\n",
              "    <tr style=\"text-align: right;\">\n",
              "      <th></th>\n",
              "      <th>response</th>\n",
              "      <th>total</th>\n",
              "      <th>rate</th>\n",
              "    </tr>\n",
              "    <tr>\n",
              "      <th>experiment</th>\n",
              "      <th></th>\n",
              "      <th></th>\n",
              "      <th></th>\n",
              "    </tr>\n",
              "  </thead>\n",
              "  <tbody>\n",
              "    <tr>\n",
              "      <th>control</th>\n",
              "      <td>264</td>\n",
              "      <td>4071</td>\n",
              "      <td>0.064849</td>\n",
              "    </tr>\n",
              "    <tr>\n",
              "      <th>exposed</th>\n",
              "      <td>308</td>\n",
              "      <td>4006</td>\n",
              "      <td>0.076885</td>\n",
              "    </tr>\n",
              "  </tbody>\n",
              "</table>\n",
              "</div>"
            ],
            "text/plain": [
              "            response  total      rate\n",
              "experiment                           \n",
              "control          264   4071  0.064849\n",
              "exposed          308   4006  0.076885"
            ]
          },
          "metadata": {
            "tags": []
          },
          "execution_count": 69
        }
      ]
    },
    {
      "cell_type": "markdown",
      "metadata": {
        "id": "RnPCpNihKv6W",
        "colab_type": "text"
      },
      "source": [
        "From this pivot table it is clear that the difference between the two groups (lift), is 0.01 (approximately 1%) but we are not confident of this result. This can be mitigated by looking at the distributions of the two groups. \n",
        "\n",
        "We can compare the two groups by plotting the distribution of the control group and calculating the probability of getting the result from our test group. We can assume that the distribution for our control group is binomial because the data is a series of Bernoulli trials, where each trial only has two possible outcomes (similar to a coin flip).\n"
      ]
    },
    {
      "cell_type": "markdown",
      "metadata": {
        "id": "9VVPp-lVKa0j",
        "colab_type": "text"
      },
      "source": [
        "# Plots of Distribution"
      ]
    },
    {
      "cell_type": "code",
      "metadata": {
        "id": "SPmgqZIj9USV",
        "colab_type": "code",
        "colab": {
          "base_uri": "https://localhost:8080/",
          "height": 406
        },
        "outputId": "d86dd287-7512-4c17-f158-4a805ea4275d"
      },
      "source": [
        "#lets look at the yes and no columns distribution as well as the experiment \n",
        "ab_summary['response']['control']\n",
        "fig, ax = plt.subplots(figsize=(12,6))\n",
        "x = np.linspace(int(ab_summary['response']['control'])-49, int(ab_summary['response']['control'])+50, 100)\n",
        "y = scs.binom(ab_summary['total']['control'], ab_summary['rate']['control']).pmf(x)\n",
        "ax.bar(x, y, alpha=0.5)\n",
        "ax.axvline(x=ab_summary['rate']['exposed'] * ab_summary['total']['control'], c='red', alpha=0.75, linestyle='--')\n",
        "plt.xlabel('response')\n",
        "plt.ylabel('probability')"
      ],
      "execution_count": 83,
      "outputs": [
        {
          "output_type": "execute_result",
          "data": {
            "text/plain": [
              "Text(0, 0.5, 'probability')"
            ]
          },
          "metadata": {
            "tags": []
          },
          "execution_count": 83
        },
        {
          "output_type": "display_data",
          "data": {
            "image/png": "[encoded data removed]",
            "text/plain": [
              "<Figure size 864x432 with 1 Axes>"
            ]
          },
          "metadata": {
            "tags": [],
            "needs_background": "light"
          }
        }
      ]
    },
    {
      "cell_type": "markdown",
      "metadata": {
        "id": "uEGQAwTnSNUm",
        "colab_type": "text"
      },
      "source": [
        "The distribution for the control group is shown in blue and the result from the test group is indicated by the red dashed line.\n",
        " We can see that the probability of getting the result from the test group was very low. However, the probability does not convey the confidence level of the results.\n",
        "\n",
        " Let’s continue and plot the test group results as a binomial distribution and compare the distributions against each other."
      ]
    },
    {
      "cell_type": "code",
      "metadata": {
        "id": "K5E1EsnVUYAL",
        "colab_type": "code",
        "colab": {
          "base_uri": "https://localhost:8080/",
          "height": 607
        },
        "outputId": "2c0c471d-6a1c-4414-bcf2-cd6616a80abf"
      },
      "source": [
        "fig, ax = plt.subplots(figsize=(12,6))\n",
        "xA = np.linspace(ab_summary['response']['control']-49, ab_summary['response']['control']+50, 100)\n",
        "yA = scs.binom(ab_summary['total']['control'], p_A).pmf(xA)\n",
        "ax.bar(xA, yA, alpha=0.5)\n",
        "xB = np.linspace(ab_summary['response']['exposed']-49, ab_summary['response']['exposed']+50, 100)\n",
        "yB = scs.binom(ab_summary['total']['exposed'], p_B).pmf(xB)\n",
        "ax.bar(xB, yB, alpha=0.5)\n",
        "plt.xlabel('converted')\n",
        "plt.ylabel('probability')"
      ],
      "execution_count": 84,
      "outputs": [
        {
          "output_type": "error",
          "ename": "NameError",
          "evalue": "ignored",
          "traceback": [
            "\u001b[0;31m---------------------------------------------------------------------------\u001b[0m",
            "\u001b[0;31mNameError\u001b[0m                                 Traceback (most recent call last)",
            "\u001b[0;32m<ipython-input-84-4e65f9f6b19f>\u001b[0m in \u001b[0;36m<module>\u001b[0;34m()\u001b[0m\n\u001b[1;32m      1\u001b[0m \u001b[0mfig\u001b[0m\u001b[0;34m,\u001b[0m \u001b[0max\u001b[0m \u001b[0;34m=\u001b[0m \u001b[0mplt\u001b[0m\u001b[0;34m.\u001b[0m\u001b[0msubplots\u001b[0m\u001b[0;34m(\u001b[0m\u001b[0mfigsize\u001b[0m\u001b[0;34m=\u001b[0m\u001b[0;34m(\u001b[0m\u001b[0;36m12\u001b[0m\u001b[0;34m,\u001b[0m\u001b[0;36m6\u001b[0m\u001b[0;34m)\u001b[0m\u001b[0;34m)\u001b[0m\u001b[0;34m\u001b[0m\u001b[0;34m\u001b[0m\u001b[0m\n\u001b[1;32m      2\u001b[0m \u001b[0mxA\u001b[0m \u001b[0;34m=\u001b[0m \u001b[0mnp\u001b[0m\u001b[0;34m.\u001b[0m\u001b[0mlinspace\u001b[0m\u001b[0;34m(\u001b[0m\u001b[0mab_summary\u001b[0m\u001b[0;34m[\u001b[0m\u001b[0;34m'response'\u001b[0m\u001b[0;34m]\u001b[0m\u001b[0;34m[\u001b[0m\u001b[0;34m'control'\u001b[0m\u001b[0;34m]\u001b[0m\u001b[0;34m-\u001b[0m\u001b[0;36m49\u001b[0m\u001b[0;34m,\u001b[0m \u001b[0mab_summary\u001b[0m\u001b[0;34m[\u001b[0m\u001b[0;34m'response'\u001b[0m\u001b[0;34m]\u001b[0m\u001b[0;34m[\u001b[0m\u001b[0;34m'control'\u001b[0m\u001b[0;34m]\u001b[0m\u001b[0;34m+\u001b[0m\u001b[0;36m50\u001b[0m\u001b[0;34m,\u001b[0m \u001b[0;36m100\u001b[0m\u001b[0;34m)\u001b[0m\u001b[0;34m\u001b[0m\u001b[0;34m\u001b[0m\u001b[0m\n\u001b[0;32m----> 3\u001b[0;31m \u001b[0myA\u001b[0m \u001b[0;34m=\u001b[0m \u001b[0mscs\u001b[0m\u001b[0;34m.\u001b[0m\u001b[0mbinom\u001b[0m\u001b[0;34m(\u001b[0m\u001b[0mab_summary\u001b[0m\u001b[0;34m[\u001b[0m\u001b[0;34m'total'\u001b[0m\u001b[0;34m]\u001b[0m\u001b[0;34m[\u001b[0m\u001b[0;34m'control'\u001b[0m\u001b[0;34m]\u001b[0m\u001b[0;34m,\u001b[0m \u001b[0mp_A\u001b[0m\u001b[0;34m)\u001b[0m\u001b[0;34m.\u001b[0m\u001b[0mpmf\u001b[0m\u001b[0;34m(\u001b[0m\u001b[0mxA\u001b[0m\u001b[0;34m)\u001b[0m\u001b[0;34m\u001b[0m\u001b[0;34m\u001b[0m\u001b[0m\n\u001b[0m\u001b[1;32m      4\u001b[0m \u001b[0max\u001b[0m\u001b[0;34m.\u001b[0m\u001b[0mbar\u001b[0m\u001b[0;34m(\u001b[0m\u001b[0mxA\u001b[0m\u001b[0;34m,\u001b[0m \u001b[0myA\u001b[0m\u001b[0;34m,\u001b[0m \u001b[0malpha\u001b[0m\u001b[0;34m=\u001b[0m\u001b[0;36m0.5\u001b[0m\u001b[0;34m)\u001b[0m\u001b[0;34m\u001b[0m\u001b[0;34m\u001b[0m\u001b[0m\n\u001b[1;32m      5\u001b[0m \u001b[0mxB\u001b[0m \u001b[0;34m=\u001b[0m \u001b[0mnp\u001b[0m\u001b[0;34m.\u001b[0m\u001b[0mlinspace\u001b[0m\u001b[0;34m(\u001b[0m\u001b[0mab_summary\u001b[0m\u001b[0;34m[\u001b[0m\u001b[0;34m'response'\u001b[0m\u001b[0;34m]\u001b[0m\u001b[0;34m[\u001b[0m\u001b[0;34m'exposed'\u001b[0m\u001b[0;34m]\u001b[0m\u001b[0;34m-\u001b[0m\u001b[0;36m49\u001b[0m\u001b[0;34m,\u001b[0m \u001b[0mab_summary\u001b[0m\u001b[0;34m[\u001b[0m\u001b[0;34m'response'\u001b[0m\u001b[0;34m]\u001b[0m\u001b[0;34m[\u001b[0m\u001b[0;34m'exposed'\u001b[0m\u001b[0;34m]\u001b[0m\u001b[0;34m+\u001b[0m\u001b[0;36m50\u001b[0m\u001b[0;34m,\u001b[0m \u001b[0;36m100\u001b[0m\u001b[0;34m)\u001b[0m\u001b[0;34m\u001b[0m\u001b[0;34m\u001b[0m\u001b[0m\n",
            "\u001b[0;31mNameError\u001b[0m: name 'p_A' is not defined"
          ]
        },
        {
          "output_type": "display_data",
          "data": {
            "image/png": "[encoded data removed]",
            "text/plain": [
              "<Figure size 864x432 with 1 Axes>"
            ]
          },
          "metadata": {
            "tags": [],
            "needs_background": "light"
          }
        }
      ]
    }
  ]
}
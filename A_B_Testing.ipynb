{
  "nbformat": 4,
  "nbformat_minor": 0,
  "metadata": {
    "colab": {
      "name": "A/B Testing.ipynb",
      "provenance": [],
      "collapsed_sections": [],
      "authorship_tag": "ABX9TyP8fJ8ciue99pQ5Ub1jVPy/",
      "include_colab_link": true
    },
    "kernelspec": {
      "name": "python3",
      "display_name": "Python 3"
    }
  },
  "cells": [
    {
      "cell_type": "markdown",
      "metadata": {
        "id": "view-in-github",
        "colab_type": "text"
      },
      "source": [
        "<a href=\"https://colab.research.google.com/github/WanjohiWanjohi/A-Btesting_SmartAd/blob/master/A_B_Testing.ipynb\" target=\"_parent\"><img src=\"https://colab.research.google.com/assets/colab-badge.svg\" alt=\"Open In Colab\"/></a>"
      ]
    },
    {
      "cell_type": "markdown",
      "metadata": {
        "id": "cGeTLSR33p-7",
        "colab_type": "text"
      },
      "source": [
        "# Impact of interactive ads on brand awareness\n",
        "An exploration of the Brand Impact Optimiser (BIO) results on an experiment and control group\n"
      ]
    },
    {
      "cell_type": "markdown",
      "metadata": {
        "id": "WFvfXG0s4B4n",
        "colab_type": "text"
      },
      "source": [
        "## Imports :Relevant packages used for the analysis are included in the notebook\n",
        "\n",
        "\n"
      ]
    },
    {
      "cell_type": "code",
      "metadata": {
        "id": "RoO3in6B0VCa",
        "colab_type": "code",
        "colab": {
          "base_uri": "https://localhost:8080/",
          "height": 74
        },
        "outputId": "9d4a5b95-1e05-4613-c277-9de9342f3b52"
      },
      "source": [
        "#https://drive.google.com/file/d/1FVPOkNiQioJJ1A-NTy3YnoWYJZheCjPg/view?usp=sharing\n",
        "\n",
        "import csv \n",
        "import pandas as pd\n",
        "import matplotlib.pyplot as plt\n",
        "import requests\n",
        "import io\n",
        "import matplotlib.pyplot as plt\n",
        "import seaborn as sns\n",
        "import numpy as np\n",
        "from scipy.stats import norm\n",
        "from sklearn.preprocessing import StandardScaler\n",
        "from scipy import stats\n",
        "import warnings\n",
        "warnings.filterwarnings('ignore')\n",
        "%matplotlib inline"
      ],
      "execution_count": 27,
      "outputs": [
        {
          "output_type": "stream",
          "text": [
            "/usr/local/lib/python3.6/dist-packages/statsmodels/tools/_testing.py:19: FutureWarning: pandas.util.testing is deprecated. Use the functions in the public API at pandas.testing instead.\n",
            "  import pandas.util.testing as tm\n"
          ],
          "name": "stderr"
        }
      ]
    },
    {
      "cell_type": "code",
      "metadata": {
        "id": "taVe_ryK205c",
        "colab_type": "code",
        "colab": {}
      },
      "source": [
        "\n",
        "#function to load csv as dataframe\n",
        "\n",
        "def load_csv_as_df(url):\n",
        "    s = requests.get(url).content\n",
        "    path = 'https://drive.google.com/uc?export=download&id='+url.split('/')[-2]\n",
        "    df = pd.read_csv(path)\n",
        "    return df\n",
        "\n",
        "#function to crete one row for response with 1 as yes and 0 as no\n",
        "def create_value(row):\n",
        "    if row['yes'] == 0 and row['no'] == 0:\n",
        "        return 0\n",
        "    elif row['yes'] == 1 and row['no'] == 0:\n",
        "        return 1\n",
        "    elif row['yes'] == 0 and row['no'] == 1:\n",
        "      return 0\n",
        "\n"
      ],
      "execution_count": 50,
      "outputs": []
    },
    {
      "cell_type": "code",
      "metadata": {
        "id": "yxJXYwMz5jDn",
        "colab_type": "code",
        "colab": {
          "base_uri": "https://localhost:8080/",
          "height": 143
        },
        "outputId": "201f5087-59de-407f-8cf4-354af7c273fc"
      },
      "source": [
        "users = load_csv_as_df(url=\"https://drive.google.com/file/d/1FVPOkNiQioJJ1A-NTy3YnoWYJZheCjPg/view?usp=sharing\")\n",
        "users['response'] = users.apply(lambda row: create_value(row), axis=1)\n",
        "#we want to use our test to confirm that the changes we make to our signup process will result in at least a 2% \n",
        "\n",
        "#get user counts in the control and xperiment group\n",
        "user_counts = users['experiment'].value_counts()\n",
        "n_a = user_counts.control\n",
        "n_b = user_counts.exposed\n",
        "ab_summary = users.pivot_table(values='response', index='experiment', aggfunc=np.sum)# add additional columns to the pivot table\n",
        "#ab_summary['total'] = users.pivot_table(values='converted', index='group', aggfunc=lambda x: len(x))\n",
        "ab_summary['rate'] = users.pivot_table(values='response', index='experiment')\n",
        "ab_summary"
      ],
      "execution_count": 67,
      "outputs": [
        {
          "output_type": "execute_result",
          "data": {
            "text/html": [
              "<div>\n",
              "<style scoped>\n",
              "    .dataframe tbody tr th:only-of-type {\n",
              "        vertical-align: middle;\n",
              "    }\n",
              "\n",
              "    .dataframe tbody tr th {\n",
              "        vertical-align: top;\n",
              "    }\n",
              "\n",
              "    .dataframe thead th {\n",
              "        text-align: right;\n",
              "    }\n",
              "</style>\n",
              "<table border=\"1\" class=\"dataframe\">\n",
              "  <thead>\n",
              "    <tr style=\"text-align: right;\">\n",
              "      <th></th>\n",
              "      <th>response</th>\n",
              "      <th>rate</th>\n",
              "    </tr>\n",
              "    <tr>\n",
              "      <th>experiment</th>\n",
              "      <th></th>\n",
              "      <th></th>\n",
              "    </tr>\n",
              "  </thead>\n",
              "  <tbody>\n",
              "    <tr>\n",
              "      <th>control</th>\n",
              "      <td>264</td>\n",
              "      <td>0.064849</td>\n",
              "    </tr>\n",
              "    <tr>\n",
              "      <th>exposed</th>\n",
              "      <td>308</td>\n",
              "      <td>0.076885</td>\n",
              "    </tr>\n",
              "  </tbody>\n",
              "</table>\n",
              "</div>"
            ],
            "text/plain": [
              "            response      rate\n",
              "experiment                    \n",
              "control          264  0.064849\n",
              "exposed          308  0.076885"
            ]
          },
          "metadata": {
            "tags": []
          },
          "execution_count": 67
        }
      ]
    },
    {
      "cell_type": "markdown",
      "metadata": {
        "id": "Em82w55z9ZaP",
        "colab_type": "text"
      },
      "source": [
        "# Descriptive Statistics Summary\n"
      ]
    },
    {
      "cell_type": "code",
      "metadata": {
        "id": "j4bA0RHt-_NV",
        "colab_type": "code",
        "colab": {}
      },
      "source": [
        "# looking at the distribution of the population\n",
        "users['experiment'].describe()"
      ],
      "execution_count": null,
      "outputs": []
    },
    {
      "cell_type": "code",
      "metadata": {
        "id": "SPmgqZIj9USV",
        "colab_type": "code",
        "colab": {
          "base_uri": "https://localhost:8080/",
          "height": 280
        },
        "outputId": "fa00549f-8154-4a27-947f-615110b54e44"
      },
      "source": [
        "#lets look at the yes and no columns distribution as well as the experiment \n",
        "exp = users.experiment.value_counts().sort_values().plot.bar()\n",
        "yes_dist = users.yes.value_counts().sort_values().plot.bar()\n",
        "no_dist = users.no.value_counts().sort_values().plot.bar()\n",
        "yes_dist.title = \"Distribution of \""
      ],
      "execution_count": 45,
      "outputs": [
        {
          "output_type": "execute_result",
          "data": {
            "text/plain": [
              "<matplotlib.axes._subplots.AxesSubplot at 0x7f0ed7fe8940>"
            ]
          },
          "metadata": {
            "tags": []
          },
          "execution_count": 45
        },
        {
          "output_type": "display_data",
          "data": {
            "image/png": "[encoded data removed]",
            "text/plain": [
              "<Figure size 432x288 with 1 Axes>"
            ]
          },
          "metadata": {
            "tags": [],
            "needs_background": "light"
          }
        }
      ]
    }
  ]
}
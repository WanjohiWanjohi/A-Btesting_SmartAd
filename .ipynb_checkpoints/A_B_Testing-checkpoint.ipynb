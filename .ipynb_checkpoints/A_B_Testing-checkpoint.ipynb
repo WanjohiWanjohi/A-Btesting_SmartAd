{
 "cells": [
  {
   "cell_type": "markdown",
   "metadata": {
    "colab_type": "text",
    "id": "view-in-github"
   },
   "source": [
    "<a href=\"https://colab.research.google.com/github/WanjohiWanjohi/A-Btesting_SmartAd/blob/master/A_B_Testing.ipynb\" target=\"_parent\"><img src=\"https://colab.research.google.com/assets/colab-badge.svg\" alt=\"Open In Colab\"/></a>"
   ]
  },
  {
   "cell_type": "markdown",
   "metadata": {
    "colab_type": "text",
    "id": "cGeTLSR33p-7"
   },
   "source": [
    "# Impact of interactive ads on brand awareness\n",
    "An exploration of the Brand Impact Optimiser (BIO) results on an experiment and control group\n"
   ]
  },
  {
   "cell_type": "markdown",
   "metadata": {
    "colab_type": "text",
    "id": "WFvfXG0s4B4n"
   },
   "source": [
    "## Imports :Relevant packages used for the analysis are included in the notebook\n",
    "\n",
    "\n"
   ]
  },
  {
   "cell_type": "code",
   "execution_count": 1,
   "metadata": {
    "colab": {},
    "colab_type": "code",
    "id": "RoO3in6B0VCa"
   },
   "outputs": [],
   "source": [
    "#https://drive.google.com/file/d/1FVPOkNiQioJJ1A-NTy3YnoWYJZheCjPg/view?usp=sharing\n",
    "\n",
    "import csv \n",
    "import pandas as pd\n",
    "import matplotlib.pyplot as plt\n",
    "import requests\n",
    "import io\n",
    "import matplotlib.pyplot as plt\n",
    "import seaborn as sns\n",
    "import numpy as np\n",
    "from scipy.stats import norm\n",
    "from sklearn.preprocessing import StandardScaler\n",
    "from scipy import stats\n",
    "import warnings\n",
    "import scipy.stats as scs\n",
    "warnings.filterwarnings('ignore')\n",
    "%matplotlib inline"
   ]
  },
  {
   "cell_type": "code",
   "execution_count": 4,
   "metadata": {
    "colab": {},
    "colab_type": "code",
    "id": "taVe_ryK205c"
   },
   "outputs": [],
   "source": [
    "\n",
    "#function to load csv as dataframe from google drive link\n",
    "def load_csv_as_df(url):\n",
    "    s = requests.get(url).content\n",
    "    path = 'https://drive.google.com/uc?export=download&id='+url.split('/')[-2]\n",
    "    df = pd.read_csv(path)\n",
    "    return df\n",
    "\n",
    "#function to crete one row for response with 1 as yes and 0 as no\n",
    "def create_value(row):\n",
    "    if row['yes'] == 0 and row['no'] == 0:\n",
    "        return 0\n",
    "    elif row['yes'] == 1 and row['no'] == 0:\n",
    "        return 1\n",
    "    elif row['yes'] == 0 and row['no'] == 1:\n",
    "      return 0\n",
    "\n"
   ]
  },
  {
   "cell_type": "code",
   "execution_count": 11,
   "metadata": {
    "colab": {},
    "colab_type": "code",
    "id": "yxJXYwMz5jDn"
   },
   "outputs": [
    {
     "data": {
      "text/plain": [
       "(control    4071\n",
       " exposed    4006\n",
       " Name: experiment, dtype: int64,\n",
       " auction_id     8077\n",
       " experiment     8077\n",
       " date           8077\n",
       " hour           8077\n",
       " device_make    8077\n",
       " platform_os    8077\n",
       " browser        8077\n",
       " yes            8077\n",
       " no             8077\n",
       " response       8077\n",
       " dtype: int64)"
      ]
     },
     "execution_count": 11,
     "metadata": {},
     "output_type": "execute_result"
    }
   ],
   "source": [
    "#users = load_csv_as_df(url=\"https://drive.google.com/file/d/1FVPOkNiQioJJ1A-NTy3YnoWYJZheCjPg/view?usp=sharing\")\n",
    "users = pd.read_csv('AdSmartABdata.csv')\n",
    "users['response'] = users.apply(lambda row: create_value(row), axis=1)\n",
    "# looking at the distribution of the population between the two distinctions of the population\n",
    "user_counts = users['experiment'].value_counts()\n",
    "user_counts , users.count()\n"
   ]
  },
  {
   "cell_type": "markdown",
   "metadata": {
    "colab_type": "text",
    "id": "TKmDvaF9NEXc"
   },
   "source": [
    "The *response* column indicates whether a user is aware of SmartAd or not with a 1 or 0, respectively. \n"
   ]
  },
  {
   "cell_type": "markdown",
   "metadata": {},
   "source": [
    "# Probability Distribution of the Population\n",
    "From the size of each population we can derive the probability of each population in the sample"
   ]
  },
  {
   "cell_type": "code",
   "execution_count": 15,
   "metadata": {},
   "outputs": [
    {
     "data": {
      "text/plain": [
       "(0.495976228797821, 0.504023771202179)"
      ]
     },
     "execution_count": 15,
     "metadata": {},
     "output_type": "execute_result"
    }
   ],
   "source": [
    "p_control = user_counts.control / users.response.count()\n",
    "p_control\n",
    "p_exposed = user_counts.exposed / users.response.count()\n",
    "p_exposed , p_control"
   ]
  },
  {
   "cell_type": "markdown",
   "metadata": {},
   "source": [
    "From this probability in the dataset , we can infer that the sample is distributed binomially i.e equal to 0.5 like flipping a fair coin."
   ]
  },
  {
   "cell_type": "markdown",
   "metadata": {
    "colab_type": "text",
    "id": "Em82w55z9ZaP"
   },
   "source": [
    "# Descriptive Statistics Summary\n"
   ]
  },
  {
   "cell_type": "code",
   "execution_count": 16,
   "metadata": {
    "colab": {
     "base_uri": "https://localhost:8080/",
     "height": 143
    },
    "colab_type": "code",
    "id": "j4bA0RHt-_NV",
    "outputId": "fe364a6a-8464-47a5-c832-8070a38449ce"
   },
   "outputs": [
    {
     "data": {
      "text/html": [
       "<div>\n",
       "<style scoped>\n",
       "    .dataframe tbody tr th:only-of-type {\n",
       "        vertical-align: middle;\n",
       "    }\n",
       "\n",
       "    .dataframe tbody tr th {\n",
       "        vertical-align: top;\n",
       "    }\n",
       "\n",
       "    .dataframe thead th {\n",
       "        text-align: right;\n",
       "    }\n",
       "</style>\n",
       "<table border=\"1\" class=\"dataframe\">\n",
       "  <thead>\n",
       "    <tr style=\"text-align: right;\">\n",
       "      <th></th>\n",
       "      <th>response</th>\n",
       "      <th>total</th>\n",
       "      <th>rate</th>\n",
       "    </tr>\n",
       "    <tr>\n",
       "      <th>experiment</th>\n",
       "      <th></th>\n",
       "      <th></th>\n",
       "      <th></th>\n",
       "    </tr>\n",
       "  </thead>\n",
       "  <tbody>\n",
       "    <tr>\n",
       "      <th>control</th>\n",
       "      <td>264</td>\n",
       "      <td>4071</td>\n",
       "      <td>0.064849</td>\n",
       "    </tr>\n",
       "    <tr>\n",
       "      <th>exposed</th>\n",
       "      <td>308</td>\n",
       "      <td>4006</td>\n",
       "      <td>0.076885</td>\n",
       "    </tr>\n",
       "  </tbody>\n",
       "</table>\n",
       "</div>"
      ],
      "text/plain": [
       "            response  total      rate\n",
       "experiment                           \n",
       "control          264   4071  0.064849\n",
       "exposed          308   4006  0.076885"
      ]
     },
     "execution_count": 16,
     "metadata": {},
     "output_type": "execute_result"
    }
   ],
   "source": [
    "\n",
    "# get user counts in the control and xperiment group\n",
    "n_a = user_counts.control\n",
    "n_b = user_counts.exposed\n",
    "ab_summary = users.pivot_table(values='response', index='experiment', aggfunc=np.sum)# add additional columns to the pivot table\n",
    "ab_summary['total'] = users.pivot_table(values='response', index='experiment', aggfunc=lambda x: len(x))\n",
    "ab_summary['rate'] = users.pivot_table(values='response', index='experiment')\n",
    "ab_summary"
   ]
  },
  {
   "cell_type": "markdown",
   "metadata": {
    "colab_type": "text",
    "id": "RnPCpNihKv6W"
   },
   "source": [
    "From this pivot table it is clear that the difference between the two groups (lift), is 0.01 (approximately 1%) but we are not confident of this result. This can be mitigated by looking at the distributions of the two groups. \n",
    "\n",
    "We can compare the two groups by plotting the distribution of the control group and calculating the probability of getting the result from our test group. We have proven that the distribution for our control group is binomial because the data is a series of Bernoulli trials, where each trial only has two possible outcomes (similar to a coin flip).\n"
   ]
  },
  {
   "cell_type": "markdown",
   "metadata": {
    "colab_type": "text",
    "id": "9VVPp-lVKa0j"
   },
   "source": [
    "# Plots of Distribution"
   ]
  },
  {
   "cell_type": "code",
   "execution_count": 83,
   "metadata": {
    "colab": {
     "base_uri": "https://localhost:8080/",
     "height": 406
    },
    "colab_type": "code",
    "id": "SPmgqZIj9USV",
    "outputId": "d86dd287-7512-4c17-f158-4a805ea4275d"
   },
   "outputs": [
    {
     "data": {
      "text/plain": [
       "Text(0, 0.5, 'probability')"
      ]
     },
     "execution_count": 83,
     "metadata": {
      "tags": []
     },
     "output_type": "execute_result"
    },
    {
     "data": {
      "image/png": "[encoded data removed]",
      "text/plain": [
       "<Figure size 864x432 with 1 Axes>"
      ]
     },
     "metadata": {
      "needs_background": "light",
      "tags": []
     },
     "output_type": "display_data"
    }
   ],
   "source": [
    "#lets look at the yes and no columns distribution as well as the experiment \n",
    "ab_summary['response']['control']\n",
    "fig, ax = plt.subplots(figsize=(12,6))\n",
    "x = np.linspace(int(ab_summary['response']['control'])-49, int(ab_summary['response']['control'])+50, 100)\n",
    "y = scs.binom(ab_summary['total']['control'], ab_summary['rate']['control']).pmf(x)\n",
    "ax.bar(x, y, alpha=0.5)\n",
    "ax.axvline(x=ab_summary['rate']['exposed'] * ab_summary['total']['control'], c='red', alpha=0.75, linestyle='--')\n",
    "plt.xlabel('response')\n",
    "plt.ylabel('probability')"
   ]
  },
  {
   "cell_type": "markdown",
   "metadata": {
    "colab_type": "text",
    "id": "uEGQAwTnSNUm"
   },
   "source": [
    "The distribution for the control group is shown in blue and the result from the test group is indicated by the red dashed line.\n",
    " We can see that the probability of getting the result from the test group was very low. However, the probability does not convey the confidence level of the results.\n",
    "\n",
    " Let’s continue and plot the test group results as a binomial distribution and compare the distributions against each other."
   ]
  },
  {
   "cell_type": "code",
   "execution_count": 58,
   "metadata": {
    "colab": {
     "base_uri": "https://localhost:8080/",
     "height": 607
    },
    "colab_type": "code",
    "id": "K5E1EsnVUYAL",
    "outputId": "2c0c471d-6a1c-4414-bcf2-cd6616a80abf"
   },
   "outputs": [
    {
     "data": {
      "text/plain": [
       "Text(0.5, 1.0, 'Binomial distributions for the control (red) and test (blue) groups')"
      ]
     },
     "execution_count": 58,
     "metadata": {},
     "output_type": "execute_result"
    },
    {
     "data": {
      "image/png": "[encoded data removed]",
      "text/plain": [
       "<Figure size 864x432 with 1 Axes>"
      ]
     },
     "metadata": {
      "needs_background": "light"
     },
     "output_type": "display_data"
    }
   ],
   "source": [
    "#p_A is the conversion rate of the control group\n",
    "# p_B is the conversion rate of the test group\n",
    "p_A = ab_summary['response']['control']/ab_summary['total']['control']\n",
    "p_B = ab_summary['response']['exposed'] /  ab_summary['total']['exposed']\n",
    "A_converted = ab_summary['response']['control']\n",
    "B_converted = ab_summary['response']['exposed']\n",
    "A_total = ab_summary['total']['control']\n",
    "B_total = ab_summary['total']['exposed']\n",
    "\n",
    "fig, ax = plt.subplots(figsize=(12,6))\n",
    "xA = np.linspace(A_converted-49, A_converted+50, 100)\n",
    "yA = scs.binom(A_total, p_A).pmf(xA)\n",
    "ax.bar(xA, yA, alpha=0.5)\n",
    "xB = np.linspace(B_converted-49, B_converted+50, 100)\n",
    "yB = scs.binom(B_total, p_B).pmf(xB)\n",
    "ax.bar(xB, yB, alpha=0.5)\n",
    "plt.xlabel('converted')\n",
    "plt.ylabel('probability')\n",
    "plt.title('Binomial distributions for the control (red) and test (blue) groups')"
   ]
  },
  {
   "cell_type": "markdown",
   "metadata": {},
   "source": [
    "We can see that the test group converted less users than the control group. We can also see that the peak of the test group results is higher than the control group.\n",
    "We now focus  on the conversion rate. In order to calculate this, we need to standardize the data and compare the probability of successes, p, for each group."
   ]
  },
  {
   "cell_type": "code",
   "execution_count": 62,
   "metadata": {},
   "outputs": [
    {
     "data": {
      "text/plain": [
       "Text(0.5, 1.0, 'Control (red) and test (blue) groups as normal distributions for the proportion of successes')"
      ]
     },
     "execution_count": 62,
     "metadata": {},
     "output_type": "execute_result"
    },
    {
     "data": {
      "image/png": "[encoded data removed]",
      "text/plain": [
       "<Figure size 864x432 with 1 Axes>"
      ]
     },
     "metadata": {
      "needs_background": "light"
     },
     "output_type": "display_data"
    }
   ],
   "source": [
    "# standard error of the mean for both groups\n",
    "SE_A = np.sqrt(p_A * (1-p_A)) / np.sqrt(A_total)\n",
    "SE_B = np.sqrt(p_B * (1-p_B)) / np.sqrt(B_total)# plot the null and alternative hypothesis\n",
    "fig, ax = plt.subplots(figsize=(12,6))\n",
    "x = np.linspace(0, .2, 1000)\n",
    "yA = scs.norm(p_A, SE_A).pdf(x)\n",
    "ax.plot(x, yA)\n",
    "ax.axvline(x=p_A, c='red', alpha=0.5, linestyle='--')\n",
    "yB = scs.norm(p_B, SE_B).pdf(x)\n",
    "ax.plot(x, yB)\n",
    "ax.axvline(x=p_B, c='blue', alpha=0.5, linestyle='--')\n",
    "plt.xlabel('Converted Proportion')\n",
    "plt.ylabel('PDF')\n",
    "plt.title('Control (red) and test (blue) groups as normal distributions for the proportion of successes')"
   ]
  },
  {
   "cell_type": "markdown",
   "metadata": {},
   "source": [
    "The dashed lines represent the mean conversion rate for each group. The distance between the red dashed line and the blue dashed line is equal to mean difference between the control and test group. "
   ]
  },
  {
   "cell_type": "code",
   "execution_count": 65,
   "metadata": {},
   "outputs": [
    {
     "ename": "ModuleNotFoundError",
     "evalue": "No module named 'abplot'",
     "output_type": "error",
     "traceback": [
      "\u001b[1;31m---------------------------------------------------------------------------\u001b[0m",
      "\u001b[1;31mModuleNotFoundError\u001b[0m                       Traceback (most recent call last)",
      "\u001b[1;32m<ipython-input-65-180943a22efb>\u001b[0m in \u001b[0;36m<module>\u001b[1;34m\u001b[0m\n\u001b[1;32m----> 1\u001b[1;33m \u001b[1;32mimport\u001b[0m \u001b[0mabplot\u001b[0m\u001b[1;33m\u001b[0m\u001b[1;33m\u001b[0m\u001b[0m\n\u001b[0m\u001b[0;32m      2\u001b[0m \u001b[0mn\u001b[0m \u001b[1;33m=\u001b[0m \u001b[0mn_a\u001b[0m\u001b[1;33m+\u001b[0m \u001b[0mn_b\u001b[0m\u001b[1;33m\u001b[0m\u001b[1;33m\u001b[0m\u001b[0m\n\u001b[0;32m      3\u001b[0m \u001b[0mbcr\u001b[0m \u001b[1;33m=\u001b[0m \u001b[0mp_A\u001b[0m\u001b[1;33m\u001b[0m\u001b[1;33m\u001b[0m\u001b[0m\n\u001b[0;32m      4\u001b[0m \u001b[1;31m#d_hat is the distribution of the difference between random variables from the two groups.\u001b[0m\u001b[1;33m\u001b[0m\u001b[1;33m\u001b[0m\u001b[1;33m\u001b[0m\u001b[0m\n\u001b[0;32m      5\u001b[0m \u001b[0md_hat\u001b[0m \u001b[1;33m=\u001b[0m \u001b[0mp_B\u001b[0m \u001b[1;33m-\u001b[0m \u001b[0mp_A\u001b[0m\u001b[1;33m\u001b[0m\u001b[1;33m\u001b[0m\u001b[0m\n",
      "\u001b[1;31mModuleNotFoundError\u001b[0m: No module named 'abplot'"
     ]
    }
   ],
   "source": [
    "\n",
    "n = n_a+ n_b\n",
    "bcr = p_A  \n",
    "#d_hat is the distribution of the difference between random variables from the two groups.\n",
    "d_hat = p_B - p_A\n",
    "abplot(n, bcr, d_hat, show_power=True)"
   ]
  },
  {
   "cell_type": "markdown",
   "metadata": {},
   "source": [
    "# References\n",
    "## Websites\n",
    "https://towardsdatascience.com/the-math-behind-a-b-testing-with-example-code-part-1-of-2-7be752e1d06f\n",
    "## Papers"
   ]
  }
 ],
 "metadata": {
  "colab": {
   "authorship_tag": "ABX9TyPV6p4D8/vqlplMDDm0y0Y7",
   "collapsed_sections": [],
   "include_colab_link": true,
   "name": "A/B Testing.ipynb",
   "provenance": []
  },
  "kernelspec": {
   "display_name": "Python 3",
   "language": "python",
   "name": "python3"
  },
  "language_info": {
   "codemirror_mode": {
    "name": "ipython",
    "version": 3
   },
   "file_extension": ".py",
   "mimetype": "text/x-python",
   "name": "python",
   "nbconvert_exporter": "python",
   "pygments_lexer": "ipython3",
   "version": "3.7.6"
  }
 },
 "nbformat": 4,
 "nbformat_minor": 1
}
